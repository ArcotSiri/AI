{
  "nbformat": 4,
  "nbformat_minor": 0,
  "metadata": {
    "colab": {
      "name": "Untitled14.ipynb",
      "provenance": [],
      "authorship_tag": "ABX9TyPQa95edWh2RxfRA5lmP2DY",
      "include_colab_link": true
    },
    "kernelspec": {
      "name": "python3",
      "display_name": "Python 3"
    },
    "language_info": {
      "name": "python"
    }
  },
  "cells": [
    {
      "cell_type": "markdown",
      "metadata": {
        "id": "view-in-github",
        "colab_type": "text"
      },
      "source": [
        "<a href=\"https://colab.research.google.com/github/ArcotSiri/AI/blob/main/Tuple%20Operations.ipynb\" target=\"_parent\"><img src=\"https://colab.research.google.com/assets/colab-badge.svg\" alt=\"Open In Colab\"/></a>"
      ]
    },
    {
      "cell_type": "code",
      "metadata": {
        "colab": {
          "base_uri": "https://localhost:8080/"
        },
        "id": "nt01npI73QVP",
        "outputId": "6841b329-d70e-4e25-b388-9fccb4a15a8c"
      },
      "source": [
        "for i in range(0,5):\n",
        "  print(i)\n",
        "j=5\n",
        "if j in range(2,6):\n",
        "  print(\"ded\")"
      ],
      "execution_count": 4,
      "outputs": [
        {
          "output_type": "stream",
          "text": [
            "0\n",
            "1\n",
            "2\n",
            "3\n",
            "4\n",
            "ded\n"
          ],
          "name": "stdout"
        }
      ]
    },
    {
      "cell_type": "code",
      "metadata": {
        "colab": {
          "base_uri": "https://localhost:8080/"
        },
        "id": "YTCRnotSUyiA",
        "outputId": "eca49567-02ee-4e27-f12d-7fb99866a7bf"
      },
      "source": [
        "colors = ('blue','green','magenta','green','violet')\n",
        "print(colors)\n",
        "print(type(colors))"
      ],
      "execution_count": 5,
      "outputs": [
        {
          "output_type": "stream",
          "text": [
            "('blue', 'green', 'magenta', 'green', 'violet')\n",
            "<class 'tuple'>\n"
          ],
          "name": "stdout"
        }
      ]
    },
    {
      "cell_type": "code",
      "metadata": {
        "colab": {
          "base_uri": "https://localhost:8080/"
        },
        "id": "wU7hgcW1WIAA",
        "outputId": "c3df9a1a-0e65-4760-aa81-d93bb2bc0ac3"
      },
      "source": [
        "colors = ('blue','green','magenta','green','violet')\n",
        "for i in colors:\n",
        "   print(i)"
      ],
      "execution_count": 6,
      "outputs": [
        {
          "output_type": "stream",
          "text": [
            "blue\n",
            "green\n",
            "magenta\n",
            "green\n",
            "violet\n"
          ],
          "name": "stdout"
        }
      ]
    },
    {
      "cell_type": "code",
      "metadata": {
        "colab": {
          "base_uri": "https://localhost:8080/"
        },
        "id": "Dh3MeccfWIFc",
        "outputId": "23482ea1-3de4-41a9-a30f-1fd6ca995e3b"
      },
      "source": [
        "colors = ('blue','green','magenta','green','violet')\n",
        "num = colors.count('green')\n",
        "print(num)"
      ],
      "execution_count": 14,
      "outputs": [
        {
          "output_type": "stream",
          "text": [
            "2\n"
          ],
          "name": "stdout"
        }
      ]
    },
    {
      "cell_type": "code",
      "metadata": {
        "colab": {
          "base_uri": "https://localhost:8080/"
        },
        "id": "SvB7LAjmX2js",
        "outputId": "47e77e09-5753-4168-8cb3-a9f6831fa86a"
      },
      "source": [
        "colors = ('blue','green','magenta','green','violet')\n",
        "print(colors.index('violet'))"
      ],
      "execution_count": 16,
      "outputs": [
        {
          "output_type": "stream",
          "text": [
            "4\n"
          ],
          "name": "stdout"
        }
      ]
    },
    {
      "cell_type": "code",
      "metadata": {
        "colab": {
          "base_uri": "https://localhost:8080/"
        },
        "id": "Mjj2RB-3YDVp",
        "outputId": "75fc9134-58c5-42b4-ecb1-18f409846df6"
      },
      "source": [
        "colors = ('blue','green','magenta','green','violet')\n",
        "print(colors+(5,))\n",
        "print(colors+('black',))"
      ],
      "execution_count": 23,
      "outputs": [
        {
          "output_type": "stream",
          "text": [
            "('blue', 'green', 'magenta', 'green', 'violet', 5)\n",
            "('blue', 'green', 'magenta', 'green', 'violet', 'black')\n"
          ],
          "name": "stdout"
        }
      ]
    },
    {
      "cell_type": "code",
      "metadata": {
        "colab": {
          "base_uri": "https://localhost:8080/",
          "height": 220
        },
        "id": "BCEbLEYtY9JK",
        "outputId": "6162f301-7b47-4e4c-b710-46160c9ce9a7"
      },
      "source": [
        "colors = ('blue','green','magenta','green','violet')\n",
        "print(colors)\n",
        "del colors\n",
        "print(colors)"
      ],
      "execution_count": 24,
      "outputs": [
        {
          "output_type": "stream",
          "text": [
            "('blue', 'green', 'magenta', 'green', 'violet')\n"
          ],
          "name": "stdout"
        },
        {
          "output_type": "error",
          "ename": "NameError",
          "evalue": "ignored",
          "traceback": [
            "\u001b[0;31m---------------------------------------------------------------------------\u001b[0m",
            "\u001b[0;31mNameError\u001b[0m                                 Traceback (most recent call last)",
            "\u001b[0;32m<ipython-input-24-3465d8d00b3f>\u001b[0m in \u001b[0;36m<module>\u001b[0;34m()\u001b[0m\n\u001b[1;32m      2\u001b[0m \u001b[0mprint\u001b[0m\u001b[0;34m(\u001b[0m\u001b[0mcolors\u001b[0m\u001b[0;34m)\u001b[0m\u001b[0;34m\u001b[0m\u001b[0;34m\u001b[0m\u001b[0m\n\u001b[1;32m      3\u001b[0m \u001b[0;32mdel\u001b[0m \u001b[0mcolors\u001b[0m\u001b[0;34m\u001b[0m\u001b[0;34m\u001b[0m\u001b[0m\n\u001b[0;32m----> 4\u001b[0;31m \u001b[0mprint\u001b[0m\u001b[0;34m(\u001b[0m\u001b[0mcolors\u001b[0m\u001b[0;34m)\u001b[0m\u001b[0;34m\u001b[0m\u001b[0;34m\u001b[0m\u001b[0m\n\u001b[0m",
            "\u001b[0;31mNameError\u001b[0m: name 'colors' is not defined"
          ]
        }
      ]
    },
    {
      "cell_type": "code",
      "metadata": {
        "colab": {
          "base_uri": "https://localhost:8080/"
        },
        "id": "GTahM6vyZNU7",
        "outputId": "2eefa73a-c695-4740-93ba-dad6f24a81fa"
      },
      "source": [
        "colors = ('blue','green','magenta','green','violet')\n",
        "print(colors)\n",
        "s = list(colors)\n",
        "print(s)\n",
        "s.remove('green')\n",
        "print(s)"
      ],
      "execution_count": 32,
      "outputs": [
        {
          "output_type": "stream",
          "text": [
            "('blue', 'green', 'magenta', 'green', 'violet')\n",
            "['blue', 'green', 'magenta', 'green', 'violet']\n",
            "['blue', 'magenta', 'green', 'violet']\n"
          ],
          "name": "stdout"
        }
      ]
    },
    {
      "cell_type": "code",
      "metadata": {
        "colab": {
          "base_uri": "https://localhost:8080/"
        },
        "id": "nvFA2zAjZ2Sf",
        "outputId": "b97c9a09-caf6-4ca2-b6e5-79ea3cf76855"
      },
      "source": [
        "colors = ('blue','green','magenta','green','violet')\n",
        "liist = enumerate(colors,1)\n",
        "print(list(liist))"
      ],
      "execution_count": 5,
      "outputs": [
        {
          "output_type": "stream",
          "text": [
            "[(1, 'blue'), (2, 'green'), (3, 'magenta'), (4, 'green'), (5, 'violet')]\n"
          ],
          "name": "stdout"
        }
      ]
    },
    {
      "cell_type": "code",
      "metadata": {
        "colab": {
          "base_uri": "https://localhost:8080/"
        },
        "id": "5toVtbhRzaEv",
        "outputId": "f0ccb96c-7ec3-43f6-fa31-3e1f690ef296"
      },
      "source": [
        "colors = ('blue','green','magenta','green','violet')\n",
        "print(all(colors))\n",
        "colors = ('blue','green','magenta','green',0)\n",
        "print(all(colors))\n",
        "colors = ('blue','green','magenta','green',False)\n",
        "print(all(colors))"
      ],
      "execution_count": 9,
      "outputs": [
        {
          "output_type": "stream",
          "text": [
            "True\n",
            "False\n",
            "False\n"
          ],
          "name": "stdout"
        }
      ]
    },
    {
      "cell_type": "code",
      "metadata": {
        "colab": {
          "base_uri": "https://localhost:8080/"
        },
        "id": "N5cDzyObz2A0",
        "outputId": "195ea8c9-4b55-4152-a2e4-72364ac430b9"
      },
      "source": [
        "colors = ('blue','green','magenta','green',0)\n",
        "print(any(colors))"
      ],
      "execution_count": 10,
      "outputs": [
        {
          "output_type": "stream",
          "text": [
            "True\n"
          ],
          "name": "stdout"
        }
      ]
    },
    {
      "cell_type": "code",
      "metadata": {
        "colab": {
          "base_uri": "https://localhost:8080/"
        },
        "id": "SoaMyywyz-lZ",
        "outputId": "16c87f1d-487e-4fb8-af2e-5bd0af25c175"
      },
      "source": [
        "colors = ('blue','green','magenta','green','violet')\n",
        "print(len(colors))"
      ],
      "execution_count": 11,
      "outputs": [
        {
          "output_type": "stream",
          "text": [
            "5\n"
          ],
          "name": "stdout"
        }
      ]
    },
    {
      "cell_type": "code",
      "metadata": {
        "colab": {
          "base_uri": "https://localhost:8080/"
        },
        "id": "l_gSOUEz0Q11",
        "outputId": "a5806da5-85a1-4cab-93f0-246e01d6d26a"
      },
      "source": [
        "colors = ('blue','green','magenta','green','violet')\n",
        "print(sorted(colors))\n",
        "print(sorted(colors,reverse=True))"
      ],
      "execution_count": 16,
      "outputs": [
        {
          "output_type": "stream",
          "text": [
            "['blue', 'green', 'green', 'magenta', 'violet']\n",
            "['violet', 'magenta', 'green', 'green', 'blue']\n"
          ],
          "name": "stdout"
        }
      ]
    },
    {
      "cell_type": "code",
      "metadata": {
        "colab": {
          "base_uri": "https://localhost:8080/"
        },
        "id": "Kyv9budC0puq",
        "outputId": "39f1bd01-ded8-464c-bcff-a3459d8c35bb"
      },
      "source": [
        "ss = (1,2,3,4)\n",
        "print(sum(ss))"
      ],
      "execution_count": 17,
      "outputs": [
        {
          "output_type": "stream",
          "text": [
            "10\n"
          ],
          "name": "stdout"
        }
      ]
    }
  ]
}